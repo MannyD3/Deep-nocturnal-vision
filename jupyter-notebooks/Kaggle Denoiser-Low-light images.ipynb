{
 "cells": [
  {
   "cell_type": "markdown",
   "id": "7de27621",
   "metadata": {},
   "source": [
    "# Denoiser - Learning in the dark (RAW)"
   ]
  },
  {
   "cell_type": "code",
   "execution_count": 1,
   "id": "726b60a4",
   "metadata": {},
   "outputs": [],
   "source": [
    "import numpy as np\n",
    "import pandas as pd\n",
    "import matplotlib.pyplot as plt\n",
    "import zipfile\n",
    "import os\n",
    "import tensorflow as tf\n",
    "\n",
    "from sklearn.model_selection import train_test_split\n",
    "\n",
    "from tensorflow.keras.models import Model\n",
    "from tensorflow.keras.layers import Conv2D, MaxPooling2D, UpSampling2D, Dropout, BatchNormalization, Input\n",
    "from tensorflow.keras.callbacks import EarlyStopping\n",
    "\n",
    "%matplotlib inline"
   ]
  },
  {
   "cell_type": "code",
   "execution_count": 2,
   "id": "0aded631",
   "metadata": {
    "scrolled": true
   },
   "outputs": [
    {
     "name": "stdout",
     "output_type": "stream",
     "text": [
      "4.5.5\n"
     ]
    }
   ],
   "source": [
    "import cv2\n",
    "print(cv2.__version__)"
   ]
  },
  {
   "cell_type": "code",
   "execution_count": 5,
   "id": "f14be25a",
   "metadata": {},
   "outputs": [],
   "source": [
    "gpu_devices = tf.config.experimental.list_physical_devices('GPU')\n",
    "for device in gpu_devices:\n",
    "    tf.config.experimental.set_memory_growth(device, True)"
   ]
  },
  {
   "cell_type": "code",
   "execution_count": 6,
   "id": "6e4ec5de",
   "metadata": {
    "scrolled": true
   },
   "outputs": [
    {
     "name": "stdout",
     "output_type": "stream",
     "text": [
      "Num GPUs Available:  2\n"
     ]
    }
   ],
   "source": [
    "print(\"Num GPUs Available: \", len(tf.config.list_physical_devices('GPU')))"
   ]
  },
  {
   "cell_type": "code",
   "execution_count": null,
   "id": "23c3501e",
   "metadata": {
    "scrolled": true
   },
   "outputs": [],
   "source": [
    "import os\n",
    "for dirname, _, filenames in os.walk('Learning-to-See-in-the-Dark'):\n",
    "    for filename in filenames:\n",
    "        print(os.path.join(dirname, filename))"
   ]
  },
  {
   "cell_type": "code",
   "execution_count": 7,
   "id": "471495d6",
   "metadata": {},
   "outputs": [],
   "source": [
    "# path to zipped & working directories\n",
    "path_zip = 'Learning-to-See-in-the-Dark/dataset/'\n",
    "path = 'Learning-to-See-in-the-Dark/dataset/Sony/'"
   ]
  },
  {
   "cell_type": "code",
   "execution_count": 7,
   "id": "12f6e29b",
   "metadata": {},
   "outputs": [],
   "source": [
    "# unzip files first to working directory\n",
    "# We could use also unzipped data source, but why not to learn something new?\n",
    "\n",
    "# with zipfile.ZipFile(path_zip + 'train.zip', 'r') as zip_ref:\n",
    "#     zip_ref.extractall(path)\n",
    "\n",
    "# with zipfile.ZipFile(path_zip + 'test.zip', 'r') as zip_ref:\n",
    "#     zip_ref.extractall(path)  \n",
    "    \n",
    "# with zipfile.ZipFile(path_zip + 'train_cleaned.zip', 'r') as zip_ref:\n",
    "#     zip_ref.extractall(path)  \n",
    "    \n",
    "# with zipfile.ZipFile(path_zip + 'sampleSubmission.csv.zip', 'r') as zip_ref:\n",
    "#     zip_ref.extractall(path)  "
   ]
  },
  {
   "cell_type": "code",
   "execution_count": 23,
   "id": "29785b09",
   "metadata": {},
   "outputs": [],
   "source": [
    "# store image names in list for later use\n",
    "train_img = sorted(os.listdir(path + '/train_short'))\n",
    "train_cleaned_img = sorted(os.listdir(path + '/train_long'))\n",
    "test_img = sorted(os.listdir(path + '/test_short'))"
   ]
  },
  {
   "cell_type": "markdown",
   "id": "d02528a8",
   "metadata": {},
   "source": [
    "# Data preparation"
   ]
  },
  {
   "cell_type": "code",
   "execution_count": 24,
   "id": "5e6c2c54",
   "metadata": {},
   "outputs": [],
   "source": [
    "# prepare function\n",
    "def process_image(path):\n",
    "    img = cv2.imread(path)\n",
    "    img = np.asarray(img, dtype=\"float32\")\n",
    "    img = cv2.resize(img, (540, 420))\n",
    "#    img = cv2.cvtColor(img, cv2.COLOR_BGR2GRAY)\n",
    "    img = img/255.0\n",
    "    img = np.reshape(img, (420, 540, 1))\n",
    "#    img = img[:, :, 0]\n",
    "    \n",
    "    return img"
   ]
  },
  {
   "cell_type": "code",
   "execution_count": 25,
   "id": "a162a10d",
   "metadata": {},
   "outputs": [],
   "source": [
    "# preprocess i#mages\n",
    "train_short = []\n",
    "train_long = []\n",
    "test_short = []\n",
    "\n",
    "for f in sorted(os.listdir(path + 'train_short/')):\n",
    "    train_short.append(process_image(path + 'train_short/' + f))\n",
    "\n",
    "for f in sorted(os.listdir(path + 'train_long/')):\n",
    "    train_long.append(process_image(path + 'train_long/' + f))\n",
    "   \n",
    "for f in sorted(os.listdir(path + 'test_short/')):\n",
    "    test_short.append(process_image(path + 'test_short/' + f))"
   ]
  },
  {
   "cell_type": "markdown",
   "id": "821bcfe1",
   "metadata": {},
   "source": [
    "# Exploratory data analysis"
   ]
  },
  {
   "cell_type": "code",
   "execution_count": 26,
   "id": "c3a44428",
   "metadata": {
    "scrolled": true
   },
   "outputs": [
    {
     "data": {
      "image/png": "[encoded data removed]",
      "text/plain": [
       "<Figure size 1080x1800 with 8 Axes>"
      ]
     },
     "metadata": {},
     "output_type": "display_data"
    }
   ],
   "source": [
    "plt.figure(figsize=(15,25))\n",
    "for i in range(0,8,2):\n",
    "    plt.subplot(4,2,i+1)\n",
    "    plt.xticks([])\n",
    "    plt.yticks([])\n",
    "    plt.imshow(train_short[i][:,:,0], cmap='gray')\n",
    "    plt.title('Noise image: {}'.format(train_img[i]))\n",
    "    \n",
    "    plt.subplot(4,2,i+2)\n",
    "    plt.xticks([])\n",
    "    plt.yticks([])\n",
    "    plt.imshow(train_long[i][:,:,0], cmap='gray')\n",
    "    plt.title('Denoised image: {}'.format(train_img[i]))\n",
    "\n",
    "plt.show()"
   ]
  },
  {
   "cell_type": "markdown",
   "id": "a9aa0642",
   "metadata": {},
   "source": [
    "# Split data"
   ]
  },
  {
   "cell_type": "code",
   "execution_count": 11,
   "id": "398f0564",
   "metadata": {
    "scrolled": true
   },
   "outputs": [],
   "source": [
    "# convert list to numpy array\n",
    "X_train = np.asarray(train_short)\n",
    "Y_train = np.asarray(train_long)\n",
    "X_test = np.asarray(test_short)\n",
    "\n",
    "X_train, X_val, Y_train, Y_val = train_test_split(X_train, Y_train, test_size=0.15)"
   ]
  },
  {
   "cell_type": "markdown",
   "id": "90bc1abf",
   "metadata": {},
   "source": [
    "# Modeling"
   ]
  },
  {
   "cell_type": "code",
   "execution_count": 12,
   "id": "0d4f14c7",
   "metadata": {},
   "outputs": [],
   "source": [
    "def model():\n",
    "    input_layer = Input(shape=(420, 540, 1))  # we might define (None,None,1) here, but in model summary dims would not be visible\n",
    "    \n",
    "    # encoding\n",
    "    x = Conv2D(64, (3, 3), activation='relu', padding='same')(input_layer)\n",
    "    x = Conv2D(128, (3, 3), activation='relu', padding='same')(x)\n",
    "    x = BatchNormalization()(x)\n",
    "\n",
    "    x = MaxPooling2D((2, 2), padding='same')(x)\n",
    "    \n",
    "    x = Dropout(0.5)(x)\n",
    "\n",
    "    # decoding\n",
    "    x = Conv2D(128, (3, 3), activation='relu', padding='same')(x)\n",
    "    x = Conv2D(64, (3, 3), activation='relu', padding='same')(x)\n",
    "    x = BatchNormalization()(x)\n",
    "\n",
    "    x = UpSampling2D((2, 2))(x)\n",
    "\n",
    "    output_layer = Conv2D(1, (3, 3), activation='sigmoid', padding='same')(x)\n",
    "    model = Model(inputs=[input_layer], outputs=[output_layer])\n",
    "    model.compile(optimizer='adam' , loss='mean_squared_error', metrics=['mae'])\n",
    "\n",
    "    return model\n"
   ]
  },
  {
   "cell_type": "code",
   "execution_count": 13,
   "id": "f58e582a",
   "metadata": {},
   "outputs": [
    {
     "name": "stderr",
     "output_type": "stream",
     "text": [
      "2022-04-07 13:16:24.727276: I tensorflow/core/platform/cpu_feature_guard.cc:151] This TensorFlow binary is optimized with oneAPI Deep Neural Network Library (oneDNN) to use the following CPU instructions in performance-critical operations:  AVX2 FMA\n",
      "To enable them in other operations, rebuild TensorFlow with the appropriate compiler flags.\n",
      "2022-04-07 13:16:24.904860: I tensorflow/stream_executor/cuda/cuda_gpu_executor.cc:936] successful NUMA node read from SysFS had negative value (-1), but there must be at least one NUMA node, so returning NUMA node zero\n",
      "2022-04-07 13:16:24.905062: I tensorflow/stream_executor/cuda/cuda_gpu_executor.cc:936] successful NUMA node read from SysFS had negative value (-1), but there must be at least one NUMA node, so returning NUMA node zero\n",
      "2022-04-07 13:16:24.905229: I tensorflow/stream_executor/cuda/cuda_gpu_executor.cc:936] successful NUMA node read from SysFS had negative value (-1), but there must be at least one NUMA node, so returning NUMA node zero\n",
      "2022-04-07 13:16:24.905382: I tensorflow/stream_executor/cuda/cuda_gpu_executor.cc:936] successful NUMA node read from SysFS had negative value (-1), but there must be at least one NUMA node, so returning NUMA node zero\n",
      "2022-04-07 13:16:24.905535: I tensorflow/stream_executor/cuda/cuda_gpu_executor.cc:936] successful NUMA node read from SysFS had negative value (-1), but there must be at least one NUMA node, so returning NUMA node zero\n",
      "2022-04-07 13:16:24.905689: I tensorflow/stream_executor/cuda/cuda_gpu_executor.cc:936] successful NUMA node read from SysFS had negative value (-1), but there must be at least one NUMA node, so returning NUMA node zero\n",
      "2022-04-07 13:16:25.453529: I tensorflow/stream_executor/cuda/cuda_gpu_executor.cc:936] successful NUMA node read from SysFS had negative value (-1), but there must be at least one NUMA node, so returning NUMA node zero\n",
      "2022-04-07 13:16:25.453763: I tensorflow/stream_executor/cuda/cuda_gpu_executor.cc:936] successful NUMA node read from SysFS had negative value (-1), but there must be at least one NUMA node, so returning NUMA node zero\n",
      "2022-04-07 13:16:25.453931: I tensorflow/stream_executor/cuda/cuda_gpu_executor.cc:936] successful NUMA node read from SysFS had negative value (-1), but there must be at least one NUMA node, so returning NUMA node zero\n",
      "2022-04-07 13:16:25.454093: I tensorflow/stream_executor/cuda/cuda_gpu_executor.cc:936] successful NUMA node read from SysFS had negative value (-1), but there must be at least one NUMA node, so returning NUMA node zero\n",
      "2022-04-07 13:16:25.454254: I tensorflow/stream_executor/cuda/cuda_gpu_executor.cc:936] successful NUMA node read from SysFS had negative value (-1), but there must be at least one NUMA node, so returning NUMA node zero\n",
      "2022-04-07 13:16:25.454401: I tensorflow/core/common_runtime/gpu/gpu_device.cc:1525] Created device /job:localhost/replica:0/task:0/device:GPU:0 with 22846 MB memory:  -> device: 0, name: NVIDIA TITAN RTX, pci bus id: 0000:02:00.0, compute capability: 7.5\n",
      "2022-04-07 13:16:25.454697: I tensorflow/stream_executor/cuda/cuda_gpu_executor.cc:936] successful NUMA node read from SysFS had negative value (-1), but there must be at least one NUMA node, so returning NUMA node zero\n",
      "2022-04-07 13:16:25.454830: I tensorflow/core/common_runtime/gpu/gpu_device.cc:1525] Created device /job:localhost/replica:0/task:0/device:GPU:1 with 9619 MB memory:  -> device: 1, name: NVIDIA GeForce RTX 2080 Ti, pci bus id: 0000:01:00.0, compute capability: 7.5\n"
     ]
    }
   ],
   "source": [
    "model = model()"
   ]
  },
  {
   "cell_type": "code",
   "execution_count": 14,
   "id": "f718cd93",
   "metadata": {
    "scrolled": true
   },
   "outputs": [
    {
     "name": "stdout",
     "output_type": "stream",
     "text": [
      "Model: \"model\"\n",
      "_________________________________________________________________\n",
      " Layer (type)                Output Shape              Param #   \n",
      "=================================================================\n",
      " input_1 (InputLayer)        [(None, 420, 540, 1)]     0         \n",
      "                                                                 \n",
      " conv2d (Conv2D)             (None, 420, 540, 64)      640       \n",
      "                                                                 \n",
      " conv2d_1 (Conv2D)           (None, 420, 540, 128)     73856     \n",
      "                                                                 \n",
      " batch_normalization (BatchN  (None, 420, 540, 128)    512       \n",
      " ormalization)                                                   \n",
      "                                                                 \n",
      " max_pooling2d (MaxPooling2D  (None, 210, 270, 128)    0         \n",
      " )                                                               \n",
      "                                                                 \n",
      " dropout (Dropout)           (None, 210, 270, 128)     0         \n",
      "                                                                 \n",
      " conv2d_2 (Conv2D)           (None, 210, 270, 128)     147584    \n",
      "                                                                 \n",
      " conv2d_3 (Conv2D)           (None, 210, 270, 64)      73792     \n",
      "                                                                 \n",
      " batch_normalization_1 (Batc  (None, 210, 270, 64)     256       \n",
      " hNormalization)                                                 \n",
      "                                                                 \n",
      " up_sampling2d (UpSampling2D  (None, 420, 540, 64)     0         \n",
      " )                                                               \n",
      "                                                                 \n",
      " conv2d_4 (Conv2D)           (None, 420, 540, 1)       577       \n",
      "                                                                 \n",
      "=================================================================\n",
      "Total params: 297,217\n",
      "Trainable params: 296,833\n",
      "Non-trainable params: 384\n",
      "_________________________________________________________________\n"
     ]
    }
   ],
   "source": [
    "model.summary()"
   ]
  },
  {
   "cell_type": "markdown",
   "id": "4c2824f9",
   "metadata": {},
   "source": [
    "# Train model"
   ]
  },
  {
   "cell_type": "code",
   "execution_count": 15,
   "id": "d3d1daf7",
   "metadata": {},
   "outputs": [],
   "source": [
    "callback = EarlyStopping(monitor='loss', patience=30)"
   ]
  },
  {
   "cell_type": "code",
   "execution_count": 16,
   "id": "eccff78b",
   "metadata": {
    "scrolled": true
   },
   "outputs": [
    {
     "name": "stderr",
     "output_type": "stream",
     "text": [
      "2022-04-07 13:16:49.672457: I tensorflow/stream_executor/cuda/cuda_dnn.cc:368] Loaded cuDNN version 8400\n",
      "2022-04-07 13:16:50.205720: I tensorflow/core/platform/default/subprocess.cc:304] Start cannot spawn child process: No such file or directory\n"
     ]
    }
   ],
   "source": [
    "history = model.fit(X_train, Y_train, validation_data = (X_val, Y_val), epochs=10, batch_size=24, verbose=0, callbacks=[callback])"
   ]
  },
  {
   "cell_type": "markdown",
   "id": "a91fb84a",
   "metadata": {},
   "source": [
    "# Plot error evolution on epochs"
   ]
  },
  {
   "cell_type": "code",
   "execution_count": 17,
   "id": "c74a863d",
   "metadata": {},
   "outputs": [
    {
     "data": {
      "image/png": "[encoded data removed]",
      "text/plain": [
       "<Figure size 1440x432 with 2 Axes>"
      ]
     },
     "metadata": {
      "needs_background": "light"
     },
     "output_type": "display_data"
    }
   ],
   "source": [
    "# Check how loss & mae went down\n",
    "epoch_loss = history.history['loss']\n",
    "epoch_val_loss = history.history['val_loss']\n",
    "epoch_mae = history.history['mae']\n",
    "epoch_val_mae = history.history['val_mae']\n",
    "\n",
    "plt.figure(figsize=(20,6))\n",
    "plt.subplot(1,2,1)\n",
    "plt.plot(range(0,len(epoch_loss)), epoch_loss, 'b-', linewidth=2, label='Train Loss')\n",
    "plt.plot(range(0,len(epoch_val_loss)), epoch_val_loss, 'r-', linewidth=2, label='Val Loss')\n",
    "plt.title('Evolution of loss on train & validation datasets over epochs')\n",
    "plt.legend(loc='best')\n",
    "\n",
    "plt.subplot(1,2,2)\n",
    "plt.plot(range(0,len(epoch_mae)), epoch_mae, 'b-', linewidth=2, label='Train MAE')\n",
    "plt.plot(range(0,len(epoch_val_mae)), epoch_val_mae, 'r-', linewidth=2,label='Val MAE')\n",
    "plt.title('Evolution of MAE on train & validation datasets over epochs')\n",
    "plt.legend(loc='best')\n",
    "\n",
    "plt.show()"
   ]
  },
  {
   "cell_type": "markdown",
   "id": "7c38b2d7",
   "metadata": {},
   "source": [
    "# Evaluation"
   ]
  },
  {
   "cell_type": "code",
   "execution_count": 18,
   "id": "fb74d18f",
   "metadata": {},
   "outputs": [],
   "source": [
    "# predict/clean test images\n",
    "Y_test = model.predict(X_test, batch_size=16)"
   ]
  },
  {
   "cell_type": "code",
   "execution_count": null,
   "id": "60dfdaee",
   "metadata": {},
   "outputs": [],
   "source": [
    "plt.figure(figsize=(15,25))\n",
    "for i in range(0,8,2):\n",
    "    plt.subplot(4,2,i+1)\n",
    "    plt.xticks([])\n",
    "    plt.yticks([])\n",
    "    plt.imshow(X_test[i][:,:,0], cmap='gray')\n",
    "    plt.title('Noisy image: {}'.format(test_img[i]))\n",
    "    \n",
    "    plt.subplot(4,2,i+2)\n",
    "    plt.xticks([])\n",
    "    plt.yticks([])\n",
    "    plt.imshow(Y_test[i][:,:,0], cmap='gray')\n",
    "    plt.title('Denoised by autoencoder: {}'.format(test_img[i]))\n",
    "\n",
    "plt.show()"
   ]
  },
  {
   "cell_type": "code",
   "execution_count": null,
   "id": "89feccb8",
   "metadata": {},
   "outputs": [],
   "source": []
  }
 ],
 "metadata": {
  "kernelspec": {
   "display_name": "Python 3 (ipykernel)",
   "language": "python",
   "name": "python3"
  },
  "language_info": {
   "codemirror_mode": {
    "name": "ipython",
    "version": 3
   },
   "file_extension": ".py",
   "mimetype": "text/x-python",
   "name": "python",
   "nbconvert_exporter": "python",
   "pygments_lexer": "ipython3",
   "version": "3.9.7"
  }
 },
 "nbformat": 4,
 "nbformat_minor": 5
}
